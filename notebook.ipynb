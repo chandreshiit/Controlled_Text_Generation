{
 "cells": [
  {
   "cell_type": "code",
   "execution_count": 1,
   "metadata": {
    "collapsed": true
   },
   "outputs": [],
   "source": [
    "import torch\n",
    "import torch.nn as nn\n",
    "import torchvision.datasets as dsets\n",
    "import torchvision.transforms as transforms\n",
    "from torch.autograd import Variable\n",
    "import torch.nn.functional as F\n",
    "import matplotlib.pyplot as plt\n",
    "import random\n",
    "import numpy as np\n",
    "from konlpy.tag import Mecab;tagger=Mecab()\n",
    "from collections import Counter\n",
    "%matplotlib inline"
   ]
  },
  {
   "cell_type": "markdown",
   "metadata": {},
   "source": [
    "* https://arxiv.org/pdf/1703.00955.pdf"
   ]
  },
  {
   "cell_type": "code",
   "execution_count": 2,
   "metadata": {
    "collapsed": false
   },
   "outputs": [
    {
     "data": {
      "text/plain": [
       "'0.2.0+751198f'"
      ]
     },
     "execution_count": 2,
     "metadata": {},
     "output_type": "execute_result"
    }
   ],
   "source": [
    "torch.__version__"
   ]
  },
  {
   "cell_type": "code",
   "execution_count": 3,
   "metadata": {
    "collapsed": true
   },
   "outputs": [],
   "source": [
    "USE_CUDA = torch.cuda.is_available()"
   ]
  },
  {
   "cell_type": "code",
   "execution_count": 4,
   "metadata": {
    "collapsed": false
   },
   "outputs": [
    {
     "data": {
      "text/plain": [
       "True"
      ]
     },
     "execution_count": 4,
     "metadata": {},
     "output_type": "execute_result"
    }
   ],
   "source": [
    "torch.cuda.is_available()"
   ]
  },
  {
   "cell_type": "code",
   "execution_count": 6,
   "metadata": {
    "collapsed": false
   },
   "outputs": [],
   "source": [
    "data = open('../dataset/corpus/naver_test.txt','r',encoding='utf-8').readlines()\n",
    "data = data[1:]\n",
    "data = [[d.split('\\t')[1],d.split('\\t')[2][:-1]] for d in data]"
   ]
  },
  {
   "cell_type": "code",
   "execution_count": 7,
   "metadata": {
    "collapsed": true
   },
   "outputs": [],
   "source": [
    "distibution = [d[1] for d in data]"
   ]
  },
  {
   "cell_type": "code",
   "execution_count": 8,
   "metadata": {
    "collapsed": false
   },
   "outputs": [
    {
     "data": {
      "text/plain": [
       "50000"
      ]
     },
     "execution_count": 8,
     "metadata": {},
     "output_type": "execute_result"
    }
   ],
   "source": [
    "Counter(distibution)\n",
    "len(data)"
   ]
  },
  {
   "cell_type": "code",
   "execution_count": 9,
   "metadata": {
    "collapsed": true
   },
   "outputs": [],
   "source": [
    "SEQ_LENGTH=15"
   ]
  },
  {
   "cell_type": "code",
   "execution_count": 13,
   "metadata": {
    "collapsed": true
   },
   "outputs": [],
   "source": [
    "train=[]"
   ]
  },
  {
   "cell_type": "code",
   "execution_count": 14,
   "metadata": {
    "collapsed": true
   },
   "outputs": [],
   "source": [
    "for t in data:\n",
    "    t0 = t[0]\n",
    "    t0 = t0.replace(\"<br>\",\"\")\n",
    "    t0 = t0.replace(\"/\",\"\")\n",
    "    \n",
    "    token0 = tagger.morphs(t0)\n",
    "    \n",
    "    if len(token0)>=SEQ_LENGTH:\n",
    "        token0= token0[:SEQ_LENGTH-1]\n",
    "    token0.append(\"<EOS>\")\n",
    "\n",
    "    while len(token0)<SEQ_LENGTH:\n",
    "        token0.append('<PAD>')\n",
    "    \n",
    "    train.append([token0,token0,t[1]])"
   ]
  },
  {
   "cell_type": "code",
   "execution_count": 15,
   "metadata": {
    "collapsed": true
   },
   "outputs": [],
   "source": [
    "word2index={\"<PAD>\":0,\"<SOS>\":1,\"<EOS>\":2,\"<UNK>\":3}\n",
    "\n",
    "for t in train:\n",
    "    for token in t[0]:\n",
    "        if token not in word2index:\n",
    "            word2index[token]=len(word2index)\n",
    "\n",
    "index2word = {v:k for k,v in word2index.items()}"
   ]
  },
  {
   "cell_type": "code",
   "execution_count": 16,
   "metadata": {
    "collapsed": true
   },
   "outputs": [],
   "source": [
    "def prepare_sequence(seq, to_ix):\n",
    "    idxs = list(map(lambda w: to_ix[w] if w in to_ix.keys() else to_ix[\"<UNK>\"], seq))\n",
    "    tensor = Variable(torch.LongTensor(idxs)).cuda() if USE_CUDA else Variable(torch.LongTensor(idxs))\n",
    "    return tensor\n",
    "\n",
    "\n",
    "flatten = lambda l: [item for sublist in l for item in sublist]"
   ]
  },
  {
   "cell_type": "code",
   "execution_count": 17,
   "metadata": {
    "collapsed": true
   },
   "outputs": [],
   "source": [
    "train_x=[]\n",
    "train_y=[]\n",
    "code_labels=[]\n",
    "lengths=[]\n",
    "for tr in train:\n",
    "    temp = prepare_sequence(tr[0], word2index)\n",
    "    temp = temp.view(1,-1)\n",
    "    train_x.append(temp)\n",
    "\n",
    "    temp2 = prepare_sequence(tr[1],word2index)\n",
    "    temp2 = temp2.view(1,-1)\n",
    "    train_y.append(temp2)\n",
    "    \n",
    "    length = [t for t in tr[1] if t !='<PAD>']\n",
    "    lengths.append(len(length))\n",
    "    code_labels.append(Variable(torch.LongTensor([int(tr[2])])).cuda() if USE_CUDA else Variable(torch.LongTensor([int(tr[2])])))"
   ]
  },
  {
   "cell_type": "code",
   "execution_count": 18,
   "metadata": {
    "collapsed": true
   },
   "outputs": [],
   "source": [
    "train_data = list(zip(train_x,train_y,code_labels))"
   ]
  },
  {
   "cell_type": "code",
   "execution_count": 19,
   "metadata": {
    "collapsed": true
   },
   "outputs": [],
   "source": [
    "def getBatch(batch_size,train_data):\n",
    "    random.shuffle(train_data)\n",
    "    sindex=0\n",
    "    eindex=batch_size\n",
    "    while eindex < len(train_data):\n",
    "        batch = train_data[sindex:eindex]\n",
    "        x,y,c = zip(*batch)\n",
    "        x,y,c = torch.cat(x),torch.cat(y),torch.cat(c)\n",
    "        temp = eindex\n",
    "        eindex = eindex+batch_size\n",
    "        sindex = temp\n",
    "        \n",
    "        yield (x,y,c)"
   ]
  },
  {
   "cell_type": "code",
   "execution_count": 20,
   "metadata": {
    "collapsed": true
   },
   "outputs": [],
   "source": [
    "class Encoder(nn.Module):\n",
    "    def __init__(self, input_size, hidden_size,latent_size=10,n_layers=1):\n",
    "        super(Encoder, self).__init__()\n",
    "        \n",
    "        self.input_size = input_size\n",
    "        self.hidden_size = hidden_size\n",
    "        self.n_layers = n_layers\n",
    "        self.Wmu= nn.Linear(hidden_size,latent_size)\n",
    "        self.Wsigma = nn.Linear(hidden_size,latent_size)\n",
    "        self.embedding = nn.Embedding(input_size, hidden_size)\n",
    "        self.gru = nn.GRU(hidden_size, hidden_size, n_layers,batch_first=True)\n",
    "    \n",
    "    def reparametrize(self, mu, log_var):\n",
    "        \"\"\"\"z = mean + eps * sigma where eps is sampled from N(0, 1).\"\"\"\n",
    "        eps = Variable(torch.randn(mu.size(0), mu.size(1))).cuda() if USE_CUDA else Variable(torch.randn(mu.size(0), mu.size(1)))\n",
    "        z = mu + eps * torch.exp(log_var/2)    # 2 for convert var to std\n",
    "        return z\n",
    "    \n",
    "    def forward(self, input,train=True):\n",
    "        hidden = Variable(torch.zeros(self.n_layers, input.size(0), self.hidden_size)).cuda() if USE_CUDA else Variable(torch.zeros(self.n_layers, input.size(0), self.hidden_size))\n",
    "        \n",
    "        embedded = self.embedding(input)\n",
    "        output, hidden = self.gru(embedded, hidden)\n",
    "        mu = self.Wmu(hidden[-1])\n",
    "        log_var = self.Wsigma(hidden[-1])\n",
    "        z = self.reparametrize(mu, log_var)\n",
    "        \n",
    "        return z,mu,log_var"
   ]
  },
  {
   "cell_type": "code",
   "execution_count": 21,
   "metadata": {
    "collapsed": true
   },
   "outputs": [],
   "source": [
    "class Generator(nn.Module):\n",
    "    def __init__(self, hidden_size, output_size,latent_size=10,code_size=2, n_layers=1):\n",
    "        super(Generator, self).__init__()\n",
    "        \n",
    "        self.hidden_size = hidden_size\n",
    "        self.output_size = output_size\n",
    "        self.n_layers = n_layers\n",
    "        #self.Wz = nn.Linear(latent_size+code_size,hidden_size)\n",
    "        self.Wz = nn.Linear(latent_size,hidden_size)\n",
    "        self.tanh = nn.Tanh()\n",
    "        self.embedding = nn.Embedding(self.output_size, self.hidden_size)\n",
    "\n",
    "        #self.dropout = nn.Dropout(self.dropout_p)\n",
    "        self.gru = nn.GRU(self.hidden_size, self.hidden_size, self.n_layers,batch_first=True)\n",
    "        self.out = nn.Linear(self.hidden_size, self.output_size)\n",
    "        \n",
    "    def forward(self, input,latent,code,lengths,seq_length,training=True):\n",
    "        \n",
    "\n",
    "        embedded = self.embedding(input)\n",
    "        #embedded = self.dropout(embedded)\n",
    "       \n",
    "        # h0\n",
    "        #latent_code = torch.cat((latent,code),1) # z,c\n",
    "        #hidden = self.tanh(self.Wz(latent_code)).view(self.n_layers,input.size(0),-1) \n",
    "        hidden = self.tanh(self.Wz(latent)).view(self.n_layers,input.size(0),-1) \n",
    "        decode=[]\n",
    "        # Apply GRU to the output so far\n",
    "        for i in range(seq_length):\n",
    "            \n",
    "            _, hidden = self.gru(embedded, hidden)\n",
    "            score = self.out(hidden.view(hidden.size(0)*hidden.size(1),-1))\n",
    "            softmaxed = F.log_softmax(score)\n",
    "            decode.append(softmaxed)\n",
    "            _,input = torch.max(softmaxed,1)\n",
    "            embedded = self.embedding(input.unsqueeze(1))\n",
    "            #embedded = self.dropout(embedded)\n",
    "        \n",
    "        # 요고 주의! time-step을 column-wise concat한 후, reshape!!\n",
    "        scores = torch.cat(decode,1)\n",
    "        \n",
    "        return scores.view(input.size(0)*seq_length,-1)"
   ]
  },
  {
   "cell_type": "code",
   "execution_count": 22,
   "metadata": {
    "collapsed": true
   },
   "outputs": [],
   "source": [
    "class  Discriminator(nn.Module):\n",
    "    \n",
    "    def __init__(self, embed_num,embed_dim,class_num,kernel_num,kernel_sizes,dropout):\n",
    "        super(Discriminator,self).__init__()\n",
    "        #self.args = args\n",
    "        \n",
    "        V = embed_num # num of vocab\n",
    "        D = embed_dim # dimenstion of word vector\n",
    "        C = class_num # num of class\n",
    "        Ci = 1\n",
    "        Co = kernel_num # 100\n",
    "        Ks = kernel_sizes # [3,4,5]\n",
    "\n",
    "        self.embed = nn.Embedding(V, D)\n",
    "        #self.convs1 = [nn.Conv2d(Ci, Co, (K, D)) for K in Ks]\n",
    "        self.convs1 = nn.ModuleList([nn.Conv2d(Ci, Co, (K, D)) for K in Ks])\n",
    "        \n",
    "        # kernal_size = (K,D) : D는 단어 벡터 길이라 픽스, K 사이즈만큼 슬라이딩, 스트라이드는 1\n",
    "        \n",
    "        '''\n",
    "        self.conv13 = nn.Conv2d(Ci, Co, (3, D))\n",
    "        self.conv14 = nn.Conv2d(Ci, Co, (4, D))\n",
    "        self.conv15 = nn.Conv2d(Ci, Co, (5, D))\n",
    "        '''\n",
    "        self.dropout = nn.Dropout(dropout)\n",
    "        self.fc1 = nn.Linear(len(Ks)*Co, C)\n",
    "\n",
    "    def conv_and_pool(self, x, conv):\n",
    "        x = F.relu(conv(x)).squeeze(3) #(N,Co,W)\n",
    "        x = F.max_pool1d(x, x.size(2)).squeeze(2)\n",
    "        return x\n",
    "\n",
    "\n",
    "    def forward(self, x,train=True):\n",
    "        x = self.embed(x) # (N,W,D)\n",
    "        \n",
    "        #if self.args.static:\n",
    "        #    x = Variable(x)\n",
    "\n",
    "        x = x.unsqueeze(1) # (N,Ci,W,D)\n",
    "\n",
    "        x = [F.relu(conv(x)).squeeze(3) for conv in self.convs1] #[(N,Co,W), ...]*len(Ks)\n",
    "\n",
    "\n",
    "        x = [F.max_pool1d(i, i.size(2)).squeeze(2) for i in x] #[(N,Co), ...]*len(Ks)\n",
    "\n",
    "        x = torch.cat(x, 1)\n",
    "\n",
    "        '''\n",
    "        x1 = self.conv_and_pool(x,self.conv13) #(N,Co)\n",
    "        x2 = self.conv_and_pool(x,self.conv14) #(N,Co)\n",
    "        x3 = self.conv_and_pool(x,self.conv15) #(N,Co)\n",
    "        x = torch.cat((x1, x2, x3), 1) # (N,len(Ks)*Co)\n",
    "        '''\n",
    "        if train:\n",
    "            x = self.dropout(x) # (N,len(Ks)*Co)\n",
    "        logit = self.fc1(x) # (N,C)\n",
    "        return logit"
   ]
  },
  {
   "cell_type": "code",
   "execution_count": 28,
   "metadata": {
    "collapsed": true
   },
   "outputs": [],
   "source": [
    "HIDDEN_SIZE = 300\n",
    "LATENT_SIZE = 20\n",
    "CODE_SIZE = 2\n",
    "BATCH_SIZE=32\n",
    "STEP=80\n",
    "LEARNING_RATE=0.0001"
   ]
  },
  {
   "cell_type": "code",
   "execution_count": 24,
   "metadata": {
    "collapsed": true
   },
   "outputs": [],
   "source": [
    "encoder =  Encoder(len(word2index), HIDDEN_SIZE,LATENT_SIZE, 2)\n",
    "generator = Generator(HIDDEN_SIZE,len(word2index),LATENT_SIZE,CODE_SIZE)\n",
    "discriminator = Discriminator(len(word2index),100,2,30,[3,4,5],0.8)\n",
    "if USE_CUDA:\n",
    "    encoder = encoder.cuda()\n",
    "    generator = generator.cuda()\n",
    "    discriminator = discriminator.cuda()\n",
    "    \n",
    "Recon = nn.CrossEntropyLoss(ignore_index=0)\n",
    "\n",
    "\n",
    "enc_optim= torch.optim.Adam(encoder.parameters(), lr=LEARNING_RATE)\n",
    "gen_optim = torch.optim.Adam(generator.parameters(),lr=LEARNING_RATE)\n",
    "dis_optiom = torch.optim.Adam(discriminator.parameters(),lr=LEARNING_RATE)"
   ]
  },
  {
   "cell_type": "markdown",
   "metadata": {},
   "source": [
    "## 1. Initialize base VAE "
   ]
  },
  {
   "cell_type": "code",
   "execution_count": 35,
   "metadata": {
    "collapsed": false
   },
   "outputs": [
    {
     "name": "stdout",
     "output_type": "stream",
     "text": [
      "[0/20] [0/1500] ELBO : 1427.6630 , RECON : 1.8688 & KLD : 1425.7942\n",
      "[0/20] [100/1500] ELBO : 839.1779 , RECON : 2.9691 & KLD : 836.2088\n",
      "[0/20] [200/1500] ELBO : 3.2860 , RECON : 3.2860 & KLD : 861.5518\n",
      "[0/20] [300/1500] ELBO : 3.3823 , RECON : 3.3823 & KLD : 864.6143\n",
      "[0/20] [400/1500] ELBO : 3.2701 , RECON : 3.2701 & KLD : 846.3619\n",
      "[0/20] [500/1500] ELBO : 938.1262 , RECON : 2.6401 & KLD : 935.4861\n",
      "[0/20] [600/1500] ELBO : 3.0781 , RECON : 3.0781 & KLD : 867.5032\n",
      "[0/20] [700/1500] ELBO : 3.2237 , RECON : 3.2237 & KLD : 894.6632\n",
      "[0/20] [800/1500] ELBO : 3.1994 , RECON : 3.1994 & KLD : 935.1910\n",
      "[0/20] [900/1500] ELBO : 896.5384 , RECON : 2.8320 & KLD : 893.7064\n",
      "[0/20] [1000/1500] ELBO : 832.2314 , RECON : 2.8361 & KLD : 829.3953\n",
      "[0/20] [1100/1500] ELBO : 883.3427 , RECON : 2.9574 & KLD : 880.3854\n",
      "[0/20] [1200/1500] ELBO : 3.5133 , RECON : 3.5133 & KLD : 797.2916\n",
      "[0/20] [1300/1500] ELBO : 848.8467 , RECON : 2.9939 & KLD : 845.8528\n",
      "[0/20] [1400/1500] ELBO : 3.0864 , RECON : 3.0864 & KLD : 841.9008\n",
      "[0/20] [1500/1500] ELBO : 3.4102 , RECON : 3.4102 & KLD : 824.1718\n",
      "[1/20] [0/1500] ELBO : 818.8743 , RECON : 2.8129 & KLD : 816.0615\n",
      "[1/20] [100/1500] ELBO : 837.9937 , RECON : 2.9814 & KLD : 835.0123\n",
      "[1/20] [200/1500] ELBO : 3.0196 , RECON : 3.0196 & KLD : 842.1525\n",
      "[1/20] [300/1500] ELBO : 3.1733 , RECON : 3.1733 & KLD : 845.9529\n",
      "[1/20] [400/1500] ELBO : 3.1956 , RECON : 3.1956 & KLD : 814.7314\n",
      "[1/20] [500/1500] ELBO : 3.1334 , RECON : 3.1334 & KLD : 896.2932\n",
      "[1/20] [600/1500] ELBO : 3.2231 , RECON : 3.2231 & KLD : 818.5848\n",
      "[1/20] [700/1500] ELBO : 3.4063 , RECON : 3.4063 & KLD : 808.5896\n",
      "[1/20] [800/1500] ELBO : 3.0561 , RECON : 3.0561 & KLD : 880.0915\n",
      "[1/20] [900/1500] ELBO : 3.0994 , RECON : 3.0994 & KLD : 788.2266\n",
      "[1/20] [1000/1500] ELBO : 846.8168 , RECON : 2.9819 & KLD : 843.8348\n",
      "[1/20] [1100/1500] ELBO : 3.5531 , RECON : 3.5531 & KLD : 821.9537\n",
      "[1/20] [1200/1500] ELBO : 3.1520 , RECON : 3.1520 & KLD : 854.0123\n",
      "[1/20] [1300/1500] ELBO : 3.5209 , RECON : 3.5209 & KLD : 794.1235\n",
      "[1/20] [1400/1500] ELBO : 3.2525 , RECON : 3.2525 & KLD : 848.2856\n",
      "[1/20] [1500/1500] ELBO : 3.1199 , RECON : 3.1199 & KLD : 815.7716\n",
      "[2/20] [0/1500] ELBO : 850.7846 , RECON : 2.9855 & KLD : 847.7991\n",
      "[2/20] [100/1500] ELBO : 854.0718 , RECON : 2.8737 & KLD : 851.1981\n",
      "[2/20] [200/1500] ELBO : 3.0886 , RECON : 3.0886 & KLD : 845.7376\n",
      "[2/20] [300/1500] ELBO : 3.0855 , RECON : 3.0855 & KLD : 840.3666\n",
      "[2/20] [400/1500] ELBO : 883.6020 , RECON : 2.9125 & KLD : 880.6895\n",
      "[2/20] [500/1500] ELBO : 3.0341 , RECON : 3.0341 & KLD : 879.3265\n",
      "[2/20] [600/1500] ELBO : 3.3338 , RECON : 3.3338 & KLD : 772.9819\n",
      "[2/20] [700/1500] ELBO : 3.1137 , RECON : 3.1137 & KLD : 751.9440\n",
      "[2/20] [800/1500] ELBO : 3.3208 , RECON : 3.3208 & KLD : 822.2567\n",
      "[2/20] [900/1500] ELBO : 759.2090 , RECON : 2.8273 & KLD : 756.3818\n",
      "[2/20] [1000/1500] ELBO : 3.0202 , RECON : 3.0202 & KLD : 818.7719\n",
      "[2/20] [1100/1500] ELBO : 827.2929 , RECON : 2.9543 & KLD : 824.3386\n",
      "[2/20] [1200/1500] ELBO : 3.0166 , RECON : 3.0166 & KLD : 766.5199\n",
      "[2/20] [1300/1500] ELBO : 807.9063 , RECON : 2.8896 & KLD : 805.0167\n",
      "[2/20] [1400/1500] ELBO : 834.5443 , RECON : 2.9134 & KLD : 831.6309\n",
      "[2/20] [1500/1500] ELBO : 3.0012 , RECON : 3.0012 & KLD : 817.1321\n",
      "[3/20] [0/1500] ELBO : 836.0943 , RECON : 2.7310 & KLD : 833.3633\n",
      "[3/20] [100/1500] ELBO : 3.0293 , RECON : 3.0293 & KLD : 872.8584\n",
      "[3/20] [200/1500] ELBO : 808.4370 , RECON : 2.9356 & KLD : 805.5014\n",
      "[3/20] [300/1500] ELBO : 3.3607 , RECON : 3.3607 & KLD : 817.4538\n",
      "[3/20] [400/1500] ELBO : 3.2697 , RECON : 3.2697 & KLD : 767.0995\n",
      "[3/20] [500/1500] ELBO : 3.1265 , RECON : 3.1265 & KLD : 755.4860\n",
      "[3/20] [600/1500] ELBO : 3.3490 , RECON : 3.3490 & KLD : 812.3433\n",
      "[3/20] [700/1500] ELBO : 794.2186 , RECON : 2.8962 & KLD : 791.3224\n",
      "[3/20] [800/1500] ELBO : 3.4561 , RECON : 3.4561 & KLD : 775.6804\n",
      "[3/20] [900/1500] ELBO : 3.0507 , RECON : 3.0507 & KLD : 837.6887\n",
      "[3/20] [1000/1500] ELBO : 773.8705 , RECON : 2.9879 & KLD : 770.8826\n",
      "[3/20] [1100/1500] ELBO : 3.3492 , RECON : 3.3492 & KLD : 815.5732\n",
      "[3/20] [1200/1500] ELBO : 3.1552 , RECON : 3.1552 & KLD : 766.6656\n",
      "[3/20] [1300/1500] ELBO : 3.1587 , RECON : 3.1587 & KLD : 723.7836\n",
      "[3/20] [1400/1500] ELBO : 3.2944 , RECON : 3.2944 & KLD : 755.4361\n",
      "[3/20] [1500/1500] ELBO : 3.2928 , RECON : 3.2928 & KLD : 790.3391\n",
      "[4/20] [0/1500] ELBO : 3.1537 , RECON : 3.1537 & KLD : 758.2179\n",
      "[4/20] [100/1500] ELBO : 799.4804 , RECON : 2.7582 & KLD : 796.7222\n",
      "[4/20] [200/1500] ELBO : 759.9976 , RECON : 2.8051 & KLD : 757.1926\n",
      "[4/20] [300/1500] ELBO : 3.2841 , RECON : 3.2841 & KLD : 797.2041\n",
      "[4/20] [400/1500] ELBO : 3.2183 , RECON : 3.2183 & KLD : 778.7915\n",
      "[4/20] [500/1500] ELBO : 796.3065 , RECON : 2.8971 & KLD : 793.4094\n",
      "[4/20] [600/1500] ELBO : 3.2869 , RECON : 3.2869 & KLD : 769.8043\n",
      "[4/20] [700/1500] ELBO : 3.0840 , RECON : 3.0840 & KLD : 788.7989\n",
      "[4/20] [800/1500] ELBO : 3.2531 , RECON : 3.2531 & KLD : 803.1889\n",
      "[4/20] [900/1500] ELBO : 3.3100 , RECON : 3.3100 & KLD : 681.8381\n",
      "[4/20] [1000/1500] ELBO : 3.0861 , RECON : 3.0861 & KLD : 830.9566\n",
      "[4/20] [1100/1500] ELBO : 807.1862 , RECON : 2.8221 & KLD : 804.3641\n",
      "[4/20] [1200/1500] ELBO : 772.0331 , RECON : 2.7852 & KLD : 769.2479\n",
      "[4/20] [1300/1500] ELBO : 3.0607 , RECON : 3.0607 & KLD : 752.2177\n",
      "[4/20] [1400/1500] ELBO : 760.4013 , RECON : 2.7773 & KLD : 757.6240\n",
      "[4/20] [1500/1500] ELBO : 869.2811 , RECON : 2.9571 & KLD : 866.3240\n",
      "[5/20] [0/1500] ELBO : 3.3858 , RECON : 3.3858 & KLD : 744.7604\n",
      "[5/20] [100/1500] ELBO : 785.5952 , RECON : 2.6393 & KLD : 782.9559\n",
      "[5/20] [200/1500] ELBO : 851.3306 , RECON : 2.9476 & KLD : 848.3830\n",
      "[5/20] [300/1500] ELBO : 3.0579 , RECON : 3.0579 & KLD : 851.6603\n",
      "[5/20] [400/1500] ELBO : 822.8446 , RECON : 2.8786 & KLD : 819.9659\n",
      "[5/20] [500/1500] ELBO : 3.0213 , RECON : 3.0213 & KLD : 802.2049\n",
      "[5/20] [600/1500] ELBO : 833.0978 , RECON : 2.9269 & KLD : 830.1709\n",
      "[5/20] [700/1500] ELBO : 3.0758 , RECON : 3.0758 & KLD : 822.9073\n",
      "[5/20] [800/1500] ELBO : 3.2478 , RECON : 3.2478 & KLD : 833.7105\n",
      "[5/20] [900/1500] ELBO : 775.0806 , RECON : 2.7493 & KLD : 772.3314\n",
      "[5/20] [1000/1500] ELBO : 3.0746 , RECON : 3.0746 & KLD : 762.4383\n",
      "[5/20] [1100/1500] ELBO : 3.2534 , RECON : 3.2534 & KLD : 694.0423\n",
      "[5/20] [1200/1500] ELBO : 3.2986 , RECON : 3.2986 & KLD : 708.8417\n",
      "[5/20] [1300/1500] ELBO : 3.2593 , RECON : 3.2593 & KLD : 686.1365\n",
      "[5/20] [1400/1500] ELBO : 3.2973 , RECON : 3.2973 & KLD : 777.2463\n",
      "[5/20] [1500/1500] ELBO : 3.2960 , RECON : 3.2960 & KLD : 769.3629\n",
      "[6/20] [0/1500] ELBO : 784.2275 , RECON : 2.7682 & KLD : 781.4593\n",
      "[6/20] [100/1500] ELBO : 3.2737 , RECON : 3.2737 & KLD : 710.4105\n",
      "[6/20] [200/1500] ELBO : 3.0054 , RECON : 3.0054 & KLD : 716.4711\n",
      "[6/20] [300/1500] ELBO : 3.1891 , RECON : 3.1891 & KLD : 725.1028\n",
      "[6/20] [400/1500] ELBO : 3.2672 , RECON : 3.2672 & KLD : 749.4747\n",
      "[6/20] [500/1500] ELBO : 769.1917 , RECON : 2.9176 & KLD : 766.2742\n",
      "[6/20] [600/1500] ELBO : 3.4248 , RECON : 3.4248 & KLD : 778.8132\n",
      "[6/20] [700/1500] ELBO : 3.2297 , RECON : 3.2297 & KLD : 767.9705\n",
      "[6/20] [800/1500] ELBO : 3.0641 , RECON : 3.0641 & KLD : 696.5063\n",
      "[6/20] [900/1500] ELBO : 763.2549 , RECON : 2.9726 & KLD : 760.2823\n",
      "[6/20] [1000/1500] ELBO : 3.1378 , RECON : 3.1378 & KLD : 784.9234\n",
      "[6/20] [1100/1500] ELBO : 3.0278 , RECON : 3.0278 & KLD : 808.9175\n",
      "[6/20] [1200/1500] ELBO : 3.0117 , RECON : 3.0117 & KLD : 758.9340\n",
      "[6/20] [1300/1500] ELBO : 3.5124 , RECON : 3.5124 & KLD : 771.8771\n",
      "[6/20] [1400/1500] ELBO : 753.1570 , RECON : 2.7965 & KLD : 750.3605\n",
      "[6/20] [1500/1500] ELBO : 798.1713 , RECON : 2.9833 & KLD : 795.1879\n",
      "[7/20] [0/1500] ELBO : 3.0676 , RECON : 3.0676 & KLD : 755.7252\n",
      "[7/20] [100/1500] ELBO : 719.7214 , RECON : 2.9657 & KLD : 716.7557\n",
      "[7/20] [200/1500] ELBO : 735.3184 , RECON : 2.6794 & KLD : 732.6390\n",
      "[7/20] [300/1500] ELBO : 3.2270 , RECON : 3.2270 & KLD : 730.7740\n",
      "[7/20] [400/1500] ELBO : 3.2624 , RECON : 3.2624 & KLD : 763.7380\n",
      "[7/20] [500/1500] ELBO : 3.2730 , RECON : 3.2730 & KLD : 778.9658\n",
      "[7/20] [600/1500] ELBO : 3.0613 , RECON : 3.0613 & KLD : 727.6263\n",
      "[7/20] [700/1500] ELBO : 3.0067 , RECON : 3.0067 & KLD : 750.3281\n",
      "[7/20] [800/1500] ELBO : 3.2530 , RECON : 3.2530 & KLD : 731.3981\n",
      "[7/20] [900/1500] ELBO : 802.1586 , RECON : 2.9092 & KLD : 799.2495\n",
      "[7/20] [1000/1500] ELBO : 3.1791 , RECON : 3.1791 & KLD : 727.6820\n",
      "[7/20] [1100/1500] ELBO : 3.0896 , RECON : 3.0896 & KLD : 703.5948\n",
      "[7/20] [1200/1500] ELBO : 3.3380 , RECON : 3.3380 & KLD : 746.3207\n",
      "[7/20] [1300/1500] ELBO : 3.0047 , RECON : 3.0047 & KLD : 730.4470\n",
      "[7/20] [1400/1500] ELBO : 3.0754 , RECON : 3.0754 & KLD : 757.0733\n",
      "[7/20] [1500/1500] ELBO : 3.0867 , RECON : 3.0867 & KLD : 747.9279\n",
      "[8/20] [0/1500] ELBO : 3.4127 , RECON : 3.4127 & KLD : 715.3873\n",
      "[8/20] [100/1500] ELBO : 3.1645 , RECON : 3.1645 & KLD : 745.6718\n",
      "[8/20] [200/1500] ELBO : 3.0655 , RECON : 3.0655 & KLD : 714.2087\n",
      "[8/20] [300/1500] ELBO : 765.5962 , RECON : 2.9445 & KLD : 762.6517\n",
      "[8/20] [400/1500] ELBO : 3.0661 , RECON : 3.0661 & KLD : 773.3413\n",
      "[8/20] [500/1500] ELBO : 3.2542 , RECON : 3.2542 & KLD : 699.0049\n",
      "[8/20] [600/1500] ELBO : 3.1958 , RECON : 3.1958 & KLD : 786.8338\n",
      "[8/20] [700/1500] ELBO : 3.0927 , RECON : 3.0927 & KLD : 793.9586\n",
      "[8/20] [800/1500] ELBO : 692.7680 , RECON : 2.9350 & KLD : 689.8330\n",
      "[8/20] [900/1500] ELBO : 746.9107 , RECON : 2.8073 & KLD : 744.1034\n",
      "[8/20] [1000/1500] ELBO : 3.1277 , RECON : 3.1277 & KLD : 771.3144\n",
      "[8/20] [1100/1500] ELBO : 3.3326 , RECON : 3.3326 & KLD : 764.1324\n",
      "[8/20] [1200/1500] ELBO : 3.1290 , RECON : 3.1290 & KLD : 703.3976\n",
      "[8/20] [1300/1500] ELBO : 3.1163 , RECON : 3.1163 & KLD : 749.9677\n",
      "[8/20] [1400/1500] ELBO : 3.2579 , RECON : 3.2579 & KLD : 721.6926\n",
      "[8/20] [1500/1500] ELBO : 3.0702 , RECON : 3.0702 & KLD : 755.4707\n",
      "[9/20] [0/1500] ELBO : 3.0491 , RECON : 3.0491 & KLD : 781.3165\n",
      "[9/20] [100/1500] ELBO : 3.5230 , RECON : 3.5230 & KLD : 790.7307\n",
      "[9/20] [200/1500] ELBO : 3.1030 , RECON : 3.1030 & KLD : 778.4678\n",
      "[9/20] [300/1500] ELBO : 3.0203 , RECON : 3.0203 & KLD : 679.3055\n",
      "[9/20] [400/1500] ELBO : 3.0755 , RECON : 3.0755 & KLD : 772.7432\n",
      "[9/20] [500/1500] ELBO : 3.0222 , RECON : 3.0222 & KLD : 707.1373\n",
      "[9/20] [600/1500] ELBO : 3.1489 , RECON : 3.1489 & KLD : 727.5511\n",
      "[9/20] [700/1500] ELBO : 3.1921 , RECON : 3.1921 & KLD : 732.3235\n",
      "[9/20] [800/1500] ELBO : 724.1065 , RECON : 2.8932 & KLD : 721.2133\n",
      "[9/20] [900/1500] ELBO : 696.1859 , RECON : 2.9661 & KLD : 693.2198\n",
      "[9/20] [1000/1500] ELBO : 3.2769 , RECON : 3.2769 & KLD : 718.2054\n",
      "[9/20] [1100/1500] ELBO : 792.9284 , RECON : 2.9666 & KLD : 789.9617\n",
      "[9/20] [1200/1500] ELBO : 3.1029 , RECON : 3.1029 & KLD : 732.4195\n",
      "[9/20] [1300/1500] ELBO : 3.4528 , RECON : 3.4528 & KLD : 726.3749\n",
      "[9/20] [1400/1500] ELBO : 3.1877 , RECON : 3.1877 & KLD : 703.8574\n",
      "[9/20] [1500/1500] ELBO : 3.3184 , RECON : 3.3184 & KLD : 739.7365\n",
      "[10/20] [0/1500] ELBO : 3.3089 , RECON : 3.3089 & KLD : 781.1611\n",
      "[10/20] [100/1500] ELBO : 3.2391 , RECON : 3.2391 & KLD : 672.9393\n",
      "[10/20] [200/1500] ELBO : 3.4213 , RECON : 3.4213 & KLD : 676.3203\n",
      "[10/20] [300/1500] ELBO : 3.2841 , RECON : 3.2841 & KLD : 696.4108\n",
      "[10/20] [400/1500] ELBO : 3.2314 , RECON : 3.2314 & KLD : 779.8253\n",
      "[10/20] [500/1500] ELBO : 3.0856 , RECON : 3.0856 & KLD : 761.0781\n",
      "[10/20] [600/1500] ELBO : 3.2430 , RECON : 3.2430 & KLD : 740.1979\n",
      "[10/20] [700/1500] ELBO : 770.6633 , RECON : 2.9647 & KLD : 767.6986\n",
      "[10/20] [800/1500] ELBO : 3.1844 , RECON : 3.1844 & KLD : 738.9972\n",
      "[10/20] [900/1500] ELBO : 790.4156 , RECON : 2.6804 & KLD : 787.7352\n",
      "[10/20] [1000/1500] ELBO : 3.1398 , RECON : 3.1398 & KLD : 773.0092\n",
      "[10/20] [1100/1500] ELBO : 3.2416 , RECON : 3.2416 & KLD : 755.0186\n",
      "[10/20] [1200/1500] ELBO : 3.1930 , RECON : 3.1930 & KLD : 665.7118\n",
      "[10/20] [1300/1500] ELBO : 743.1860 , RECON : 2.9451 & KLD : 740.2409\n",
      "[10/20] [1400/1500] ELBO : 3.1581 , RECON : 3.1581 & KLD : 808.9010\n",
      "[10/20] [1500/1500] ELBO : 3.2375 , RECON : 3.2375 & KLD : 757.0652\n",
      "[11/20] [0/1500] ELBO : 3.2281 , RECON : 3.2281 & KLD : 710.0677\n",
      "[11/20] [100/1500] ELBO : 3.6560 , RECON : 3.6560 & KLD : 692.4450\n",
      "[11/20] [200/1500] ELBO : 3.0920 , RECON : 3.0920 & KLD : 684.7100\n",
      "[11/20] [300/1500] ELBO : 732.9179 , RECON : 2.9311 & KLD : 729.9868\n",
      "[11/20] [400/1500] ELBO : 3.3880 , RECON : 3.3880 & KLD : 680.6713\n",
      "[11/20] [500/1500] ELBO : 3.1589 , RECON : 3.1589 & KLD : 757.8923\n",
      "[11/20] [600/1500] ELBO : 3.0328 , RECON : 3.0328 & KLD : 779.1362\n",
      "[11/20] [700/1500] ELBO : 3.0859 , RECON : 3.0859 & KLD : 711.2987\n",
      "[11/20] [800/1500] ELBO : 755.6022 , RECON : 2.9736 & KLD : 752.6287\n",
      "[11/20] [900/1500] ELBO : 3.1046 , RECON : 3.1046 & KLD : 805.9234\n",
      "[11/20] [1000/1500] ELBO : 3.1224 , RECON : 3.1224 & KLD : 754.8652\n",
      "[11/20] [1100/1500] ELBO : 3.0502 , RECON : 3.0502 & KLD : 655.6171\n",
      "[11/20] [1200/1500] ELBO : 781.3885 , RECON : 2.7886 & KLD : 778.5999\n",
      "[11/20] [1300/1500] ELBO : 3.0149 , RECON : 3.0149 & KLD : 683.8519\n",
      "[11/20] [1400/1500] ELBO : 3.3124 , RECON : 3.3124 & KLD : 731.5822\n",
      "[11/20] [1500/1500] ELBO : 3.1433 , RECON : 3.1433 & KLD : 707.3940\n",
      "[12/20] [0/1500] ELBO : 3.0007 , RECON : 3.0007 & KLD : 695.9932\n",
      "[12/20] [100/1500] ELBO : 3.0785 , RECON : 3.0785 & KLD : 749.1980\n",
      "[12/20] [200/1500] ELBO : 3.3051 , RECON : 3.3051 & KLD : 643.6847\n",
      "[12/20] [300/1500] ELBO : 3.1906 , RECON : 3.1906 & KLD : 773.2942\n",
      "[12/20] [400/1500] ELBO : 3.1620 , RECON : 3.1620 & KLD : 704.8843\n",
      "[12/20] [500/1500] ELBO : 715.0143 , RECON : 2.9749 & KLD : 712.0394\n",
      "[12/20] [600/1500] ELBO : 3.3271 , RECON : 3.3271 & KLD : 754.7728\n",
      "[12/20] [700/1500] ELBO : 3.1593 , RECON : 3.1593 & KLD : 757.4702\n",
      "[12/20] [800/1500] ELBO : 3.2490 , RECON : 3.2490 & KLD : 737.7961\n",
      "[12/20] [900/1500] ELBO : 3.1739 , RECON : 3.1739 & KLD : 727.1572\n",
      "[12/20] [1000/1500] ELBO : 3.0305 , RECON : 3.0305 & KLD : 687.7577\n",
      "[12/20] [1100/1500] ELBO : 3.1635 , RECON : 3.1635 & KLD : 741.5094\n",
      "[12/20] [1200/1500] ELBO : 3.0932 , RECON : 3.0932 & KLD : 706.0322\n",
      "[12/20] [1300/1500] ELBO : 3.0749 , RECON : 3.0749 & KLD : 677.0875\n",
      "[12/20] [1400/1500] ELBO : 3.3750 , RECON : 3.3750 & KLD : 730.1448\n",
      "[12/20] [1500/1500] ELBO : 3.1398 , RECON : 3.1398 & KLD : 725.1224\n",
      "[13/20] [0/1500] ELBO : 3.0851 , RECON : 3.0851 & KLD : 646.6887\n",
      "[13/20] [100/1500] ELBO : 692.8552 , RECON : 2.9908 & KLD : 689.8644\n",
      "[13/20] [200/1500] ELBO : 3.1918 , RECON : 3.1918 & KLD : 766.2227\n",
      "[13/20] [300/1500] ELBO : 773.9273 , RECON : 2.9050 & KLD : 771.0223\n",
      "[13/20] [400/1500] ELBO : 3.0221 , RECON : 3.0221 & KLD : 678.4493\n",
      "[13/20] [500/1500] ELBO : 3.1314 , RECON : 3.1314 & KLD : 684.2482\n",
      "[13/20] [600/1500] ELBO : 3.1097 , RECON : 3.1097 & KLD : 682.8851\n",
      "[13/20] [700/1500] ELBO : 3.1783 , RECON : 3.1783 & KLD : 672.2052\n",
      "[13/20] [800/1500] ELBO : 3.2403 , RECON : 3.2403 & KLD : 752.6355\n",
      "[13/20] [900/1500] ELBO : 3.2834 , RECON : 3.2834 & KLD : 726.1633\n",
      "[13/20] [1000/1500] ELBO : 3.1273 , RECON : 3.1273 & KLD : 732.6622\n",
      "[13/20] [1100/1500] ELBO : 3.0241 , RECON : 3.0241 & KLD : 687.9485\n",
      "[13/20] [1200/1500] ELBO : 3.0472 , RECON : 3.0472 & KLD : 737.9487\n",
      "[13/20] [1300/1500] ELBO : 3.2510 , RECON : 3.2510 & KLD : 748.1097\n",
      "[13/20] [1400/1500] ELBO : 3.1859 , RECON : 3.1859 & KLD : 681.1621\n",
      "[13/20] [1500/1500] ELBO : 3.1827 , RECON : 3.1827 & KLD : 682.9278\n",
      "[14/20] [0/1500] ELBO : 3.2123 , RECON : 3.2123 & KLD : 729.1754\n",
      "[14/20] [100/1500] ELBO : 693.7303 , RECON : 2.9428 & KLD : 690.7875\n",
      "[14/20] [200/1500] ELBO : 3.1722 , RECON : 3.1722 & KLD : 716.7169\n",
      "[14/20] [300/1500] ELBO : 3.4254 , RECON : 3.4254 & KLD : 681.9770\n",
      "[14/20] [400/1500] ELBO : 3.0295 , RECON : 3.0295 & KLD : 698.8411\n",
      "[14/20] [500/1500] ELBO : 3.1333 , RECON : 3.1333 & KLD : 712.8375\n",
      "[14/20] [600/1500] ELBO : 647.2238 , RECON : 2.9541 & KLD : 644.2697\n",
      "[14/20] [700/1500] ELBO : 3.2819 , RECON : 3.2819 & KLD : 766.1240\n",
      "[14/20] [800/1500] ELBO : 3.0989 , RECON : 3.0989 & KLD : 738.4387\n",
      "[14/20] [900/1500] ELBO : 740.5014 , RECON : 2.7937 & KLD : 737.7077\n",
      "[14/20] [1000/1500] ELBO : 3.3008 , RECON : 3.3008 & KLD : 662.2892\n",
      "[14/20] [1100/1500] ELBO : 3.3495 , RECON : 3.3495 & KLD : 679.8456\n",
      "[14/20] [1200/1500] ELBO : 3.3657 , RECON : 3.3657 & KLD : 682.2968\n",
      "[14/20] [1300/1500] ELBO : 715.2240 , RECON : 2.8055 & KLD : 712.4185\n",
      "[14/20] [1400/1500] ELBO : 3.0209 , RECON : 3.0209 & KLD : 718.0812\n",
      "[14/20] [1500/1500] ELBO : 3.3424 , RECON : 3.3424 & KLD : 699.5852\n",
      "[15/20] [0/1500] ELBO : 3.2134 , RECON : 3.2134 & KLD : 724.7953\n",
      "[15/20] [100/1500] ELBO : 771.5583 , RECON : 2.8626 & KLD : 768.6957\n",
      "[15/20] [200/1500] ELBO : 3.1229 , RECON : 3.1229 & KLD : 679.1513\n",
      "[15/20] [300/1500] ELBO : 3.1173 , RECON : 3.1173 & KLD : 713.2529\n",
      "[15/20] [400/1500] ELBO : 3.1344 , RECON : 3.1344 & KLD : 701.0937\n",
      "[15/20] [500/1500] ELBO : 654.4751 , RECON : 2.8879 & KLD : 651.5872\n",
      "[15/20] [600/1500] ELBO : 3.3665 , RECON : 3.3665 & KLD : 685.6814\n",
      "[15/20] [700/1500] ELBO : 3.0913 , RECON : 3.0913 & KLD : 667.2905\n",
      "[15/20] [800/1500] ELBO : 3.1178 , RECON : 3.1178 & KLD : 744.5067\n",
      "[15/20] [900/1500] ELBO : 3.0442 , RECON : 3.0442 & KLD : 660.6520\n",
      "[15/20] [1000/1500] ELBO : 3.3740 , RECON : 3.3740 & KLD : 718.0536\n",
      "[15/20] [1100/1500] ELBO : 3.0723 , RECON : 3.0723 & KLD : 638.8912\n",
      "[15/20] [1200/1500] ELBO : 3.3248 , RECON : 3.3248 & KLD : 718.9810\n",
      "[15/20] [1300/1500] ELBO : 3.2553 , RECON : 3.2553 & KLD : 657.5259\n",
      "[15/20] [1400/1500] ELBO : 746.8465 , RECON : 2.9301 & KLD : 743.9164\n",
      "[15/20] [1500/1500] ELBO : 3.1390 , RECON : 3.1390 & KLD : 747.1772\n",
      "[16/20] [0/1500] ELBO : 3.3526 , RECON : 3.3526 & KLD : 662.5736\n",
      "[16/20] [100/1500] ELBO : 3.0023 , RECON : 3.0023 & KLD : 761.0682\n",
      "[16/20] [200/1500] ELBO : 3.1659 , RECON : 3.1659 & KLD : 662.6862\n",
      "[16/20] [300/1500] ELBO : 3.1540 , RECON : 3.1540 & KLD : 699.0784\n",
      "[16/20] [400/1500] ELBO : 737.5999 , RECON : 2.9154 & KLD : 734.6846\n",
      "[16/20] [500/1500] ELBO : 717.5320 , RECON : 2.9419 & KLD : 714.5901\n",
      "[16/20] [600/1500] ELBO : 3.0154 , RECON : 3.0154 & KLD : 733.9033\n",
      "[16/20] [700/1500] ELBO : 3.0538 , RECON : 3.0538 & KLD : 651.9523\n",
      "[16/20] [800/1500] ELBO : 3.0255 , RECON : 3.0255 & KLD : 772.3877\n",
      "[16/20] [900/1500] ELBO : 681.5887 , RECON : 2.9866 & KLD : 678.6021\n",
      "[16/20] [1000/1500] ELBO : 3.1814 , RECON : 3.1814 & KLD : 688.7814\n",
      "[16/20] [1100/1500] ELBO : 763.8539 , RECON : 2.8823 & KLD : 760.9716\n",
      "[16/20] [1200/1500] ELBO : 3.1778 , RECON : 3.1778 & KLD : 698.5372\n",
      "[16/20] [1300/1500] ELBO : 3.2430 , RECON : 3.2430 & KLD : 660.1625\n",
      "[16/20] [1400/1500] ELBO : 3.1056 , RECON : 3.1056 & KLD : 675.7591\n",
      "[16/20] [1500/1500] ELBO : 725.1271 , RECON : 2.9301 & KLD : 722.1970\n",
      "[17/20] [0/1500] ELBO : 3.0688 , RECON : 3.0688 & KLD : 737.8914\n",
      "[17/20] [100/1500] ELBO : 3.0570 , RECON : 3.0570 & KLD : 692.5008\n",
      "[17/20] [200/1500] ELBO : 3.1615 , RECON : 3.1615 & KLD : 624.5668\n",
      "[17/20] [300/1500] ELBO : 3.1449 , RECON : 3.1449 & KLD : 677.6855\n",
      "[17/20] [400/1500] ELBO : 3.3296 , RECON : 3.3296 & KLD : 707.1188\n",
      "[17/20] [500/1500] ELBO : 3.0554 , RECON : 3.0554 & KLD : 708.1104\n",
      "[17/20] [600/1500] ELBO : 3.1788 , RECON : 3.1788 & KLD : 641.7233\n",
      "[17/20] [700/1500] ELBO : 3.3131 , RECON : 3.3131 & KLD : 666.9825\n",
      "[17/20] [800/1500] ELBO : 688.9252 , RECON : 2.9799 & KLD : 685.9454\n",
      "[17/20] [900/1500] ELBO : 3.0833 , RECON : 3.0833 & KLD : 690.5215\n",
      "[17/20] [1000/1500] ELBO : 3.1556 , RECON : 3.1556 & KLD : 721.7222\n",
      "[17/20] [1100/1500] ELBO : 3.2014 , RECON : 3.2014 & KLD : 696.5075\n",
      "[17/20] [1200/1500] ELBO : 692.3989 , RECON : 2.8327 & KLD : 689.5662\n",
      "[17/20] [1300/1500] ELBO : 3.2622 , RECON : 3.2622 & KLD : 678.3057\n",
      "[17/20] [1400/1500] ELBO : 768.0429 , RECON : 2.7997 & KLD : 765.2432\n",
      "[17/20] [1500/1500] ELBO : 3.1725 , RECON : 3.1725 & KLD : 696.4910\n",
      "[18/20] [0/1500] ELBO : 702.1464 , RECON : 2.8734 & KLD : 699.2730\n",
      "[18/20] [100/1500] ELBO : 3.1098 , RECON : 3.1098 & KLD : 676.3647\n",
      "[18/20] [200/1500] ELBO : 3.0907 , RECON : 3.0907 & KLD : 715.3699\n",
      "[18/20] [300/1500] ELBO : 683.6426 , RECON : 2.9877 & KLD : 680.6548\n",
      "[18/20] [400/1500] ELBO : 3.0786 , RECON : 3.0786 & KLD : 713.3457\n",
      "[18/20] [500/1500] ELBO : 3.0334 , RECON : 3.0334 & KLD : 654.4709\n",
      "[18/20] [600/1500] ELBO : 3.1593 , RECON : 3.1593 & KLD : 655.5555\n",
      "[18/20] [700/1500] ELBO : 3.2736 , RECON : 3.2736 & KLD : 670.6935\n",
      "[18/20] [800/1500] ELBO : 3.1730 , RECON : 3.1730 & KLD : 679.4990\n",
      "[18/20] [900/1500] ELBO : 692.4807 , RECON : 2.8272 & KLD : 689.6534\n",
      "[18/20] [1000/1500] ELBO : 3.1231 , RECON : 3.1231 & KLD : 607.1324\n",
      "[18/20] [1100/1500] ELBO : 3.1654 , RECON : 3.1654 & KLD : 662.0493\n",
      "[18/20] [1200/1500] ELBO : 3.1547 , RECON : 3.1547 & KLD : 625.2786\n",
      "[18/20] [1300/1500] ELBO : 680.6789 , RECON : 2.9339 & KLD : 677.7449\n",
      "[18/20] [1400/1500] ELBO : 3.1729 , RECON : 3.1729 & KLD : 690.1003\n",
      "[18/20] [1500/1500] ELBO : 744.2432 , RECON : 2.9338 & KLD : 741.3094\n",
      "[19/20] [0/1500] ELBO : 3.1015 , RECON : 3.1015 & KLD : 722.1497\n",
      "[19/20] [100/1500] ELBO : 692.6149 , RECON : 2.9731 & KLD : 689.6418\n",
      "[19/20] [200/1500] ELBO : 3.1312 , RECON : 3.1312 & KLD : 720.0535\n",
      "[19/20] [300/1500] ELBO : 3.2789 , RECON : 3.2789 & KLD : 684.4664\n",
      "[19/20] [400/1500] ELBO : 3.2368 , RECON : 3.2368 & KLD : 591.6437\n",
      "[19/20] [500/1500] ELBO : 3.0736 , RECON : 3.0736 & KLD : 689.3308\n",
      "[19/20] [600/1500] ELBO : 3.0250 , RECON : 3.0250 & KLD : 675.9436\n",
      "[19/20] [700/1500] ELBO : 3.0192 , RECON : 3.0192 & KLD : 689.6815\n",
      "[19/20] [800/1500] ELBO : 3.1726 , RECON : 3.1726 & KLD : 624.6855\n",
      "[19/20] [900/1500] ELBO : 3.2216 , RECON : 3.2216 & KLD : 629.6497\n",
      "[19/20] [1000/1500] ELBO : 3.1924 , RECON : 3.1924 & KLD : 574.2590\n",
      "[19/20] [1100/1500] ELBO : 3.1850 , RECON : 3.1850 & KLD : 703.8610\n",
      "[19/20] [1200/1500] ELBO : 3.1450 , RECON : 3.1450 & KLD : 608.9481\n",
      "[19/20] [1300/1500] ELBO : 3.1014 , RECON : 3.1014 & KLD : 691.5176\n",
      "[19/20] [1400/1500] ELBO : 3.2621 , RECON : 3.2621 & KLD : 648.8018\n",
      "[19/20] [1500/1500] ELBO : 695.6934 , RECON : 2.9641 & KLD : 692.7293\n"
     ]
    }
   ],
   "source": [
    "for step in range(STEP):\n",
    "    for i,(x,y,c) in enumerate(getBatch(BATCH_SIZE,train_data)):\n",
    "        #KCA = 0.3\n",
    "        encoder.zero_grad()\n",
    "        generator.zero_grad()\n",
    "\n",
    "        generator_input = Variable(torch.LongTensor([[word2index['<SOS>']]*BATCH_SIZE])).transpose(1,0)\n",
    "\n",
    "        if USE_CUDA:\n",
    "            generator_input = generator_input.cuda()\n",
    "\n",
    "        latent, mu, log_var = encoder(x)\n",
    "        \n",
    "        # 이 때, 코드는 prior p(c)에서 샘플링한다 되있는데, 이게 맞나.. 일단 유니폼 가정\n",
    "        code = Variable(torch.randn([BATCH_SIZE,2]).uniform_(0,1)).cuda() if USE_CUDA else Variable(torch.randn([BATCH_SIZE,2]).uniform_(0,1))\n",
    "\n",
    "        score = generator(generator_input,latent,code,lengths,SEQ_LENGTH)\n",
    "        recon_loss=Recon(score,y.view(-1))\n",
    "        kld_loss = torch.sum(0.5 * (mu**2 + torch.exp(log_var) - log_var -1))\n",
    "\n",
    "    #     KL_COST_ANNEALING\n",
    "        cost_annealing_check = recon_loss.data.cpu().numpy()[0] if USE_CUDA else recon_loss.data.numpy()[0]\n",
    "        if cost_annealing_check<3.0:\n",
    "            KCA = 1.0 # KL cost term annealing\n",
    "\n",
    "        else:\n",
    "            KCA = 0.0\n",
    "        ELBO = recon_loss+KCA*kld_loss\n",
    "\n",
    "        ELBO.backward()\n",
    "\n",
    "        torch.nn.utils.clip_grad_norm(encoder.parameters(), 5.0)\n",
    "        torch.nn.utils.clip_grad_norm(generator.parameters(), 5.0)\n",
    "\n",
    "        gen_optim.step()\n",
    "        enc_optim.step()\n",
    "\n",
    "        if i % 100==0:\n",
    "            elbo_for_print = ELBO.data.cpu().numpy()[0] if USE_CUDA else ELBO.data.numpy()[0]\n",
    "            recon_for_print = recon_loss.data.cpu().numpy()[0] if USE_CUDA else recon_loss.data.numpy()[0]\n",
    "            kld_for_print = kld_loss.data.cpu().numpy()[0] if USE_CUDA else kld_loss.data.numpy()[0]\n",
    "            print(\"[%d/%d] [%d/%d] ELBO : %.4f , RECON : %.4f & KLD : %.4f\" % (step,STEP,i,1500,elbo_for_print,\n",
    "                                                                                  recon_for_print,\n",
    "                                                                                  kld_for_print))"
   ]
  },
  {
   "cell_type": "code",
   "execution_count": 37,
   "metadata": {
    "collapsed": false
   },
   "outputs": [],
   "source": [
    "torch.save(generator.state_dict(),'models/generator.pkl')\n",
    "torch.save(encoder.state_dict(),'models/encoder.pkl')"
   ]
  },
  {
   "cell_type": "markdown",
   "metadata": {
    "collapsed": true
   },
   "source": [
    "# TODO "
   ]
  },
  {
   "cell_type": "markdown",
   "metadata": {},
   "source": [
    "* 우선 VRAE 초기화가 잘 되는지 체크(kl cost annealing 제대로)\n",
    "* Encoder 진짜 length만\n",
    "* 다른 로스들도 실험\n",
    "* wakeup-sleep 적용"
   ]
  },
  {
   "cell_type": "code",
   "execution_count": null,
   "metadata": {
    "collapsed": true
   },
   "outputs": [],
   "source": []
  }
 ],
 "metadata": {
  "kernelspec": {
   "display_name": "Python 3",
   "language": "python",
   "name": "python3"
  },
  "language_info": {
   "codemirror_mode": {
    "name": "ipython",
    "version": 3
   },
   "file_extension": ".py",
   "mimetype": "text/x-python",
   "name": "python",
   "nbconvert_exporter": "python",
   "pygments_lexer": "ipython3",
   "version": "3.5.2"
  }
 },
 "nbformat": 4,
 "nbformat_minor": 2
}
