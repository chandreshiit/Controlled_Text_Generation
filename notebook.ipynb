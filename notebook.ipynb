{
 "cells": [
  {
   "cell_type": "code",
   "execution_count": 1,
   "metadata": {
    "collapsed": true
   },
   "outputs": [],
   "source": [
    "import torch\n",
    "import torch.nn as nn\n",
    "import torchvision.datasets as dsets\n",
    "import torchvision.transforms as transforms\n",
    "from torch.autograd import Variable\n",
    "import torch.nn.functional as F\n",
    "import matplotlib.pyplot as plt\n",
    "import random\n",
    "import numpy as np\n",
    "from konlpy.tag import Mecab;tagger=Mecab()\n",
    "from collections import Counter\n",
    "%matplotlib inline"
   ]
  },
  {
   "cell_type": "markdown",
   "metadata": {},
   "source": [
    "* https://arxiv.org/pdf/1703.00955.pdf"
   ]
  },
  {
   "cell_type": "code",
   "execution_count": 2,
   "metadata": {
    "collapsed": false
   },
   "outputs": [
    {
     "data": {
      "text/plain": [
       "'0.2.0+751198f'"
      ]
     },
     "execution_count": 2,
     "metadata": {},
     "output_type": "execute_result"
    }
   ],
   "source": [
    "torch.__version__"
   ]
  },
  {
   "cell_type": "code",
   "execution_count": 3,
   "metadata": {
    "collapsed": true
   },
   "outputs": [],
   "source": [
    "USE_CUDA = torch.cuda.is_available()"
   ]
  },
  {
   "cell_type": "code",
   "execution_count": 4,
   "metadata": {
    "collapsed": false
   },
   "outputs": [
    {
     "data": {
      "text/plain": [
       "True"
      ]
     },
     "execution_count": 4,
     "metadata": {},
     "output_type": "execute_result"
    }
   ],
   "source": [
    "torch.cuda.is_available()"
   ]
  },
  {
   "cell_type": "code",
   "execution_count": 6,
   "metadata": {
    "collapsed": false
   },
   "outputs": [],
   "source": [
    "data = open('../dataset/naver_test.txt','r',encoding='utf-8').readlines()\n",
    "data = data[1:]\n",
    "data = [[d.split('\\t')[1],d.split('\\t')[2][:-1]] for d in data]"
   ]
  },
  {
   "cell_type": "code",
   "execution_count": 7,
   "metadata": {
    "collapsed": true
   },
   "outputs": [],
   "source": [
    "distibution = [d[1] for d in data]"
   ]
  },
  {
   "cell_type": "code",
   "execution_count": 10,
   "metadata": {
    "collapsed": false
   },
   "outputs": [],
   "source": [
    "positive = [d for d in data if d[1]==\"1\"]\n",
    "negative = [d for d in data if d[1] ==\"0\"]"
   ]
  },
  {
   "cell_type": "code",
   "execution_count": 11,
   "metadata": {
    "collapsed": true
   },
   "outputs": [],
   "source": [
    "data = random.sample(positive,1000) + random.sample(negative,1000)"
   ]
  },
  {
   "cell_type": "code",
   "execution_count": 12,
   "metadata": {
    "collapsed": true
   },
   "outputs": [],
   "source": [
    "SEQ_LENGTH=15"
   ]
  },
  {
   "cell_type": "code",
   "execution_count": 13,
   "metadata": {
    "collapsed": true
   },
   "outputs": [],
   "source": [
    "train=[]"
   ]
  },
  {
   "cell_type": "code",
   "execution_count": 14,
   "metadata": {
    "collapsed": true
   },
   "outputs": [],
   "source": [
    "for t in data:\n",
    "    t0 = t[0]\n",
    "    t0 = t0.replace(\"<br>\",\"\")\n",
    "    t0 = t0.replace(\"/\",\"\")\n",
    "    \n",
    "    token0 = tagger.morphs(t0)\n",
    "    \n",
    "    if len(token0)>=SEQ_LENGTH:\n",
    "        token0= token0[:SEQ_LENGTH-1]\n",
    "    token0.append(\"<EOS>\")\n",
    "\n",
    "    while len(token0)<SEQ_LENGTH:\n",
    "        token0.append('<PAD>')\n",
    "    \n",
    "    train.append([token0,token0,t[1]])"
   ]
  },
  {
   "cell_type": "code",
   "execution_count": 15,
   "metadata": {
    "collapsed": true
   },
   "outputs": [],
   "source": [
    "word2index={\"<PAD>\":0,\"<SOS>\":1,\"<EOS>\":2,\"<UNK>\":3}\n",
    "\n",
    "for t in train:\n",
    "    for token in t[0]:\n",
    "        if token not in word2index:\n",
    "            word2index[token]=len(word2index)\n",
    "\n",
    "index2word = {v:k for k,v in word2index.items()}"
   ]
  },
  {
   "cell_type": "code",
   "execution_count": 16,
   "metadata": {
    "collapsed": true
   },
   "outputs": [],
   "source": [
    "def prepare_sequence(seq, to_ix):\n",
    "    idxs = list(map(lambda w: to_ix[w] if w in to_ix.keys() else to_ix[\"<UNK>\"], seq))\n",
    "    tensor = Variable(torch.LongTensor(idxs)).cuda() if USE_CUDA else Variable(torch.LongTensor(idxs))\n",
    "    return tensor\n",
    "\n",
    "\n",
    "flatten = lambda l: [item for sublist in l for item in sublist]"
   ]
  },
  {
   "cell_type": "code",
   "execution_count": 17,
   "metadata": {
    "collapsed": true
   },
   "outputs": [],
   "source": [
    "train_x=[]\n",
    "train_y=[]\n",
    "code_labels=[]\n",
    "lengths=[]\n",
    "for tr in train:\n",
    "    temp = prepare_sequence(tr[0], word2index)\n",
    "    temp = temp.view(1,-1)\n",
    "    train_x.append(temp)\n",
    "\n",
    "    temp2 = prepare_sequence(tr[1],word2index)\n",
    "    temp2 = temp2.view(1,-1)\n",
    "    train_y.append(temp2)\n",
    "    \n",
    "    length = [t for t in tr[1] if t !='<PAD>']\n",
    "    lengths.append(len(length))\n",
    "    code_labels.append(Variable(torch.LongTensor([int(tr[2])])).cuda() if USE_CUDA else Variable(torch.LongTensor([int(tr[2])])))"
   ]
  },
  {
   "cell_type": "code",
   "execution_count": 18,
   "metadata": {
    "collapsed": true
   },
   "outputs": [],
   "source": [
    "train_data = list(zip(train_x,train_y,code_labels))"
   ]
  },
  {
   "cell_type": "code",
   "execution_count": 19,
   "metadata": {
    "collapsed": true
   },
   "outputs": [],
   "source": [
    "def getBatch(batch_size,train_data):\n",
    "    random.shuffle(train_data)\n",
    "    sindex=0\n",
    "    eindex=batch_size\n",
    "    while eindex < len(train_data):\n",
    "        batch = train_data[sindex:eindex]\n",
    "        x,y,c = zip(*batch)\n",
    "        x,y,c = torch.cat(x),torch.cat(y),torch.cat(c)\n",
    "        temp = eindex\n",
    "        eindex = eindex+batch_size\n",
    "        sindex = temp\n",
    "        \n",
    "        yield (x,y,c)"
   ]
  },
  {
   "cell_type": "code",
   "execution_count": 20,
   "metadata": {
    "collapsed": true
   },
   "outputs": [],
   "source": [
    "class Encoder(nn.Module):\n",
    "    def __init__(self, input_size, hidden_size,latent_size=10,n_layers=1):\n",
    "        super(Encoder, self).__init__()\n",
    "        \n",
    "        self.input_size = input_size\n",
    "        self.hidden_size = hidden_size\n",
    "        self.n_layers = n_layers\n",
    "        self.Wmu= nn.Linear(hidden_size,latent_size)\n",
    "        self.Wsigma = nn.Linear(hidden_size,latent_size)\n",
    "        self.embedding = nn.Embedding(input_size, hidden_size)\n",
    "        self.gru = nn.GRU(hidden_size, hidden_size, n_layers,batch_first=True)\n",
    "    \n",
    "    def reparametrize(self, mu, log_var):\n",
    "        \"\"\"\"z = mean + eps * sigma where eps is sampled from N(0, 1).\"\"\"\n",
    "        eps = Variable(torch.randn(mu.size(0), mu.size(1))).cuda() if USE_CUDA else Variable(torch.randn(mu.size(0), mu.size(1)))\n",
    "        z = mu + eps * torch.exp(log_var/2)    # 2 for convert var to std\n",
    "        return z\n",
    "    \n",
    "    def forward(self, input,train=True):\n",
    "        hidden = Variable(torch.zeros(self.n_layers, input.size(0), self.hidden_size)).cuda() if USE_CUDA else Variable(torch.zeros(self.n_layers, input.size(0), self.hidden_size))\n",
    "        \n",
    "        embedded = self.embedding(input)\n",
    "        output, hidden = self.gru(embedded, hidden)\n",
    "        mu = self.Wmu(hidden[-1])\n",
    "        log_var = self.Wsigma(hidden[-1])\n",
    "        z = self.reparametrize(mu, log_var)\n",
    "        \n",
    "        return z,mu,log_var"
   ]
  },
  {
   "cell_type": "code",
   "execution_count": 21,
   "metadata": {
    "collapsed": true
   },
   "outputs": [],
   "source": [
    "class Generator(nn.Module):\n",
    "    def __init__(self, hidden_size, output_size,latent_size=10,code_size=2, n_layers=1):\n",
    "        super(Generator, self).__init__()\n",
    "        \n",
    "        self.hidden_size = hidden_size\n",
    "        self.output_size = output_size\n",
    "        self.n_layers = n_layers\n",
    "        #self.Wz = nn.Linear(latent_size+code_size,hidden_size)\n",
    "        self.Wz = nn.Linear(latent_size,hidden_size)\n",
    "        self.tanh = nn.Tanh()\n",
    "        self.embedding = nn.Embedding(self.output_size, self.hidden_size)\n",
    "\n",
    "        #self.dropout = nn.Dropout(self.dropout_p)\n",
    "        self.gru = nn.GRU(self.hidden_size, self.hidden_size, self.n_layers,batch_first=True)\n",
    "        self.out = nn.Linear(self.hidden_size, self.output_size)\n",
    "        \n",
    "    def forward(self, input,latent,code,lengths,seq_length,training=True):\n",
    "        \n",
    "\n",
    "        embedded = self.embedding(input)\n",
    "        #embedded = self.dropout(embedded)\n",
    "       \n",
    "        # h0\n",
    "        #latent_code = torch.cat((latent,code),1) # z,c\n",
    "        #hidden = self.tanh(self.Wz(latent_code)).view(self.n_layers,input.size(0),-1) \n",
    "        hidden = self.tanh(self.Wz(latent)).view(self.n_layers,input.size(0),-1) \n",
    "        decode=[]\n",
    "        # Apply GRU to the output so far\n",
    "        for i in range(seq_length):\n",
    "            \n",
    "            _, hidden = self.gru(embedded, hidden)\n",
    "            score = self.out(hidden.view(hidden.size(0)*hidden.size(1),-1))\n",
    "            softmaxed = F.log_softmax(score)\n",
    "            decode.append(softmaxed)\n",
    "            _,input = torch.max(softmaxed,1)\n",
    "            embedded = self.embedding(input.unsqueeze(1))\n",
    "            #embedded = self.dropout(embedded)\n",
    "        \n",
    "        # 요고 주의! time-step을 column-wise concat한 후, reshape!!\n",
    "        scores = torch.cat(decode,1)\n",
    "        \n",
    "        return scores.view(input.size(0)*seq_length,-1)"
   ]
  },
  {
   "cell_type": "code",
   "execution_count": 22,
   "metadata": {
    "collapsed": true
   },
   "outputs": [],
   "source": [
    "class  Discriminator(nn.Module):\n",
    "    \n",
    "    def __init__(self, embed_num,embed_dim,class_num,kernel_num,kernel_sizes,dropout):\n",
    "        super(Discriminator,self).__init__()\n",
    "        #self.args = args\n",
    "        \n",
    "        V = embed_num # num of vocab\n",
    "        D = embed_dim # dimenstion of word vector\n",
    "        C = class_num # num of class\n",
    "        Ci = 1\n",
    "        Co = kernel_num # 100\n",
    "        Ks = kernel_sizes # [3,4,5]\n",
    "\n",
    "        self.embed = nn.Embedding(V, D)\n",
    "        #self.convs1 = [nn.Conv2d(Ci, Co, (K, D)) for K in Ks]\n",
    "        self.convs1 = nn.ModuleList([nn.Conv2d(Ci, Co, (K, D)) for K in Ks])\n",
    "        \n",
    "        # kernal_size = (K,D) : D는 단어 벡터 길이라 픽스, K 사이즈만큼 슬라이딩, 스트라이드는 1\n",
    "        \n",
    "        '''\n",
    "        self.conv13 = nn.Conv2d(Ci, Co, (3, D))\n",
    "        self.conv14 = nn.Conv2d(Ci, Co, (4, D))\n",
    "        self.conv15 = nn.Conv2d(Ci, Co, (5, D))\n",
    "        '''\n",
    "        self.dropout = nn.Dropout(dropout)\n",
    "        self.fc1 = nn.Linear(len(Ks)*Co, C)\n",
    "\n",
    "    def conv_and_pool(self, x, conv):\n",
    "        x = F.relu(conv(x)).squeeze(3) #(N,Co,W)\n",
    "        x = F.max_pool1d(x, x.size(2)).squeeze(2)\n",
    "        return x\n",
    "\n",
    "\n",
    "    def forward(self, x,train=True):\n",
    "        x = self.embed(x) # (N,W,D)\n",
    "        \n",
    "        #if self.args.static:\n",
    "        #    x = Variable(x)\n",
    "\n",
    "        x = x.unsqueeze(1) # (N,Ci,W,D)\n",
    "\n",
    "        x = [F.relu(conv(x)).squeeze(3) for conv in self.convs1] #[(N,Co,W), ...]*len(Ks)\n",
    "\n",
    "\n",
    "        x = [F.max_pool1d(i, i.size(2)).squeeze(2) for i in x] #[(N,Co), ...]*len(Ks)\n",
    "\n",
    "        x = torch.cat(x, 1)\n",
    "\n",
    "        '''\n",
    "        x1 = self.conv_and_pool(x,self.conv13) #(N,Co)\n",
    "        x2 = self.conv_and_pool(x,self.conv14) #(N,Co)\n",
    "        x3 = self.conv_and_pool(x,self.conv15) #(N,Co)\n",
    "        x = torch.cat((x1, x2, x3), 1) # (N,len(Ks)*Co)\n",
    "        '''\n",
    "        if train:\n",
    "            x = self.dropout(x) # (N,len(Ks)*Co)\n",
    "        logit = self.fc1(x) # (N,C)\n",
    "        return logit"
   ]
  },
  {
   "cell_type": "code",
   "execution_count": 144,
   "metadata": {
    "collapsed": true
   },
   "outputs": [],
   "source": [
    "HIDDEN_SIZE = 300\n",
    "LATENT_SIZE = 10\n",
    "CODE_SIZE = 2\n",
    "BATCH_SIZE=32\n",
    "STEP=500\n",
    "KTA = 0.0\n",
    "LEARNING_RATE=0.001"
   ]
  },
  {
   "cell_type": "code",
   "execution_count": 155,
   "metadata": {
    "collapsed": true
   },
   "outputs": [],
   "source": [
    "encoder =  Encoder(len(word2index), HIDDEN_SIZE,LATENT_SIZE, 2)\n",
    "generator = Generator(HIDDEN_SIZE,len(word2index),LATENT_SIZE,CODE_SIZE)\n",
    "discriminator = Discriminator(len(word2index),100,2,30,[3,4,5],0.8)\n",
    "if USE_CUDA:\n",
    "    encoder = encoder.cuda()\n",
    "    generator = generator.cuda()\n",
    "    discriminator = discriminator.cuda()\n",
    "    \n",
    "Recon = nn.CrossEntropyLoss(ignore_index=0)\n",
    "\n",
    "\n",
    "enc_optim= torch.optim.Adam(encoder.parameters(), lr=LEARNING_RATE)\n",
    "gen_optim = torch.optim.Adam(generator.parameters(),lr=LEARNING_RATE)\n",
    "dis_optiom = torch.optim.Adam(discriminator.parameters(),lr=LEARNING_RATE)"
   ]
  },
  {
   "cell_type": "markdown",
   "metadata": {},
   "source": [
    "## 1. Initialize base VAE "
   ]
  },
  {
   "cell_type": "code",
   "execution_count": 156,
   "metadata": {
    "collapsed": false
   },
   "outputs": [
    {
     "name": "stdout",
     "output_type": "stream",
     "text": [
      "[0/500] ELBO : 6.4581 , RECON : 6.4581 & KLD : 4352.0503\n",
      "[10/500] ELBO : 4.7864 , RECON : 4.7864 & KLD : 6482.7168\n",
      "[20/500] ELBO : 3.2837 , RECON : 3.2837 & KLD : 12892.1797\n",
      "[30/500] ELBO : 2.3264 , RECON : 2.3264 & KLD : 17097.9336\n",
      "[40/500] ELBO : 1.8754 , RECON : 1.8754 & KLD : 6827.7593\n",
      "[50/500] ELBO : 462.0133 , RECON : 1.4507 & KLD : 921.1252\n",
      "[60/500] ELBO : 2.1188 , RECON : 2.1188 & KLD : 596.2746\n",
      "[70/500] ELBO : 1.6112 , RECON : 1.6112 & KLD : 496.8505\n",
      "[80/500] ELBO : 1.9082 , RECON : 1.9082 & KLD : 446.2404\n",
      "[90/500] ELBO : 2.0090 , RECON : 2.0090 & KLD : 409.5056\n",
      "[100/500] ELBO : 1.8405 , RECON : 1.8405 & KLD : 425.4297\n",
      "[110/500] ELBO : 1.5558 , RECON : 1.5558 & KLD : 389.0045\n",
      "[120/500] ELBO : 2.2306 , RECON : 2.2306 & KLD : 331.8466\n",
      "[130/500] ELBO : 1.6564 , RECON : 1.6564 & KLD : 335.8025\n",
      "[140/500] ELBO : 2.1279 , RECON : 2.1279 & KLD : 348.6520\n",
      "[150/500] ELBO : 1.7114 , RECON : 1.7114 & KLD : 339.7712\n",
      "[160/500] ELBO : 1.5866 , RECON : 1.5866 & KLD : 347.0878\n",
      "[170/500] ELBO : 2.2796 , RECON : 2.2796 & KLD : 298.0188\n",
      "[180/500] ELBO : 174.6351 , RECON : 1.3709 & KLD : 346.5284\n",
      "[190/500] ELBO : 2.0910 , RECON : 2.0910 & KLD : 329.8766\n",
      "[200/500] ELBO : 1.8152 , RECON : 1.8152 & KLD : 277.0215\n",
      "[210/500] ELBO : 1.8026 , RECON : 1.8026 & KLD : 320.0041\n",
      "[220/500] ELBO : 157.8686 , RECON : 1.3657 & KLD : 313.0057\n",
      "[230/500] ELBO : 1.8060 , RECON : 1.8060 & KLD : 302.6306\n",
      "[240/500] ELBO : 153.3048 , RECON : 1.4653 & KLD : 303.6790\n",
      "[250/500] ELBO : 2.1928 , RECON : 2.1928 & KLD : 269.1356\n",
      "[260/500] ELBO : 1.8366 , RECON : 1.8366 & KLD : 307.5697\n",
      "[270/500] ELBO : 156.7930 , RECON : 1.1891 & KLD : 311.2078\n",
      "[280/500] ELBO : 148.3815 , RECON : 1.4913 & KLD : 293.7803\n",
      "[290/500] ELBO : 2.1726 , RECON : 2.1726 & KLD : 270.3692\n",
      "[300/500] ELBO : 1.7503 , RECON : 1.7503 & KLD : 301.3726\n",
      "[310/500] ELBO : 1.5102 , RECON : 1.5102 & KLD : 284.6100\n",
      "[320/500] ELBO : 1.6650 , RECON : 1.6650 & KLD : 283.5711\n",
      "[330/500] ELBO : 1.5967 , RECON : 1.5967 & KLD : 298.3513\n",
      "[340/500] ELBO : 1.5652 , RECON : 1.5652 & KLD : 265.7974\n",
      "[350/500] ELBO : 1.8659 , RECON : 1.8659 & KLD : 280.0801\n",
      "[360/500] ELBO : 1.6207 , RECON : 1.6207 & KLD : 287.6322\n",
      "[370/500] ELBO : 1.9535 , RECON : 1.9535 & KLD : 268.6618\n",
      "[380/500] ELBO : 1.6105 , RECON : 1.6105 & KLD : 264.2934\n",
      "[390/500] ELBO : 140.1939 , RECON : 1.2568 & KLD : 277.8741\n",
      "[400/500] ELBO : 138.4935 , RECON : 1.2639 & KLD : 274.4592\n",
      "[410/500] ELBO : 139.4166 , RECON : 1.2293 & KLD : 276.3746\n",
      "[420/500] ELBO : 2.1144 , RECON : 2.1144 & KLD : 249.8378\n",
      "[430/500] ELBO : 129.8035 , RECON : 1.4046 & KLD : 256.7978\n",
      "[440/500] ELBO : 1.6165 , RECON : 1.6165 & KLD : 242.7953\n",
      "[450/500] ELBO : 1.9291 , RECON : 1.9291 & KLD : 254.4594\n",
      "[460/500] ELBO : 2.1861 , RECON : 2.1861 & KLD : 272.0628\n",
      "[470/500] ELBO : 1.9762 , RECON : 1.9762 & KLD : 258.9308\n",
      "[480/500] ELBO : 1.8290 , RECON : 1.8290 & KLD : 258.4602\n",
      "[490/500] ELBO : 137.9496 , RECON : 1.4956 & KLD : 272.9080\n"
     ]
    }
   ],
   "source": [
    "for step in range(STEP):\n",
    "    for i,(x,y,c) in enumerate(getBatch(BATCH_SIZE,train_data)):\n",
    "\n",
    "        encoder.zero_grad()\n",
    "        generator.zero_grad()\n",
    "\n",
    "        generator_input = Variable(torch.LongTensor([[word2index['<SOS>']]*BATCH_SIZE])).transpose(1,0)\n",
    "\n",
    "        if USE_CUDA:\n",
    "            generator_input = generator_input.cuda()\n",
    "\n",
    "        latent, mu, log_var = encoder(x)\n",
    "        \n",
    "        # 이 때, 코드는 prior p(c)에서 샘플링한다 되있는데, 이게 맞나.. 일단 유니폼 가정\n",
    "        code = Variable(torch.randn([BATCH_SIZE,2]).uniform_(0,1)).cuda() if USE_CUDA else Variable(torch.randn([BATCH_SIZE,2]).uniform_(0,1))\n",
    "\n",
    "        score = generator(generator_input,latent,code,lengths,SEQ_LENGTH)\n",
    "        recon_loss=Recon(score,y.view(-1))\n",
    "        kld_loss = torch.sum(0.5 * (mu**2 + torch.exp(log_var) - log_var -1))\n",
    "\n",
    "    #     KL_COST_ANNEALING\n",
    "        cost_annealing_check = recon_loss.data.cpu().numpy()[0] if USE_CUDA else recon_loss.data.numpy()[0]\n",
    "        if cost_annealing_check<1.5:\n",
    "            KTA = 0.5 # KL cost term annealing\n",
    "        elif cost_annealing_check<1.0:\n",
    "            KTA = 0.75\n",
    "        elif cost_annealing_check<0.5:\n",
    "            KTA = 1.0\n",
    "        else:\n",
    "            KTA = 0.0\n",
    "            \n",
    "        ELBO = recon_loss+KTA*kld_loss\n",
    "\n",
    "        ELBO.backward()\n",
    "\n",
    "        torch.nn.utils.clip_grad_norm(encoder.parameters(), 5.0)\n",
    "        torch.nn.utils.clip_grad_norm(generator.parameters(), 5.0)\n",
    "\n",
    "        gen_optim.step()\n",
    "        enc_optim.step()\n",
    "    \n",
    "    # KL term Anealing\n",
    "    #KTA+=1/STEP\n",
    "    #KTA = round(KTA,3)\n",
    "    \n",
    "    if step % 10==0:\n",
    "        elbo_for_print = ELBO.data.cpu().numpy()[0] if USE_CUDA else ELBO.data.numpy()[0]\n",
    "        recon_for_print = recon_loss.data.cpu().numpy()[0] if USE_CUDA else recon_loss.data.numpy()[0]\n",
    "        kld_for_print = kld_loss.data.cpu().numpy()[0] if USE_CUDA else kld_loss.data.numpy()[0]\n",
    "        print(\"[%d/%d] ELBO : %.4f , RECON : %.4f & KLD : %.4f\" % (step,STEP,elbo_for_print,\n",
    "                                                                              recon_for_print,\n",
    "                                                                              kld_for_print))"
   ]
  },
  {
   "cell_type": "code",
   "execution_count": 147,
   "metadata": {
    "collapsed": false
   },
   "outputs": [],
   "source": [
    "torch.save(generator.state_dict(),'models/generator.pkl')\n",
    "torch.save(encoder.state_dict(),'models/encoder.pkl')"
   ]
  },
  {
   "cell_type": "code",
   "execution_count": 154,
   "metadata": {
    "collapsed": false
   },
   "outputs": [
    {
     "name": "stdout",
     "output_type": "stream",
     "text": [
      "A:  이건 10 점 이 싶 다 다 다 다 좀 가 저렇게 저렇게 멋있\n",
      "\n"
     ]
    }
   ],
   "source": [
    "generator_input = Variable(torch.LongTensor([[word2index['<SOS>']]*1])).transpose(1,0)\n",
    "if USE_CUDA:\n",
    "    generator_input = generator_input.cuda()\n",
    "\n",
    "latent = Variable(torch.randn([1,10])).cuda() if USE_CUDA else Variable(torch.randn([1,10]))\n",
    "code = Variable(torch.randn([1,2]).uniform_(0,1)).cuda() if USE_CUDA else Variable(torch.randn([1,2]).uniform_(0,1))\n",
    "recon = generator(generator_input,latent,code,15,SEQ_LENGTH,False)\n",
    "\n",
    "v,i = torch.max(recon,1)\n",
    "\n",
    "decoded=[]\n",
    "for t in range(i.size()[0]):\n",
    "    decoded.append(index2word[i.data.cpu().numpy()[t] if USE_CUDA else i.data.cpu().numpy()[t]])\n",
    "\n",
    "print('A: ', ' '.join([i for i in decoded if i !='<PAD>' and i != '<EOS>'])+'\\n')"
   ]
  },
  {
   "cell_type": "markdown",
   "metadata": {
    "collapsed": true
   },
   "source": [
    "# TODO "
   ]
  },
  {
   "cell_type": "markdown",
   "metadata": {},
   "source": [
    "* 우선 VRAE 초기화가 잘 되는지 체크(kl cost annealing 제대로)\n",
    "* Encoder 진짜 length만\n",
    "* 다른 로스들도 실험\n",
    "* wakeup-sleep 적용"
   ]
  },
  {
   "cell_type": "code",
   "execution_count": null,
   "metadata": {
    "collapsed": true
   },
   "outputs": [],
   "source": []
  }
 ],
 "metadata": {
  "kernelspec": {
   "display_name": "Python 3",
   "language": "python",
   "name": "python3"
  },
  "language_info": {
   "codemirror_mode": {
    "name": "ipython",
    "version": 3
   },
   "file_extension": ".py",
   "mimetype": "text/x-python",
   "name": "python",
   "nbconvert_exporter": "python",
   "pygments_lexer": "ipython3",
   "version": "3.5.2"
  }
 },
 "nbformat": 4,
 "nbformat_minor": 2
}
